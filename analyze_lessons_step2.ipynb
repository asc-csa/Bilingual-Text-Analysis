{
 "cells": [
  {
   "cell_type": "markdown",
   "metadata": {},
   "source": [
    "## Analyzing CSA's Lessons Learned | Analyse des leçons apprises par l'ASC \n",
    "### Step 2: Sentiment Analysis | Étape 2 : Analyse des sentiments  \n",
    "This notebook takes the translated lessons learned from step 1 and applies VADER sentiment analysis. \n",
    "This workflow could be adapted to any other spreadsheet or csv. \n",
    "\n",
    "Ce cahier reprend les leçons traduites de l'étape 1 et applique l'analyse des sentiments VADER. \n",
    "Ce workflow pourrait être adapté à tout autre tableur ou csv. \n",
    "\n",
    "Author/Auteur: N Fee, Canadian Space Agency/Agence spatiale canadienne, 2021-06-18 \n"
   ]
  },
  {
   "cell_type": "code",
   "execution_count": 1,
   "metadata": {},
   "outputs": [],
   "source": [
    "import nltk #NLP library\n",
    "import pandas as pd\n",
    "from nltk.sentiment.vader import SentimentIntensityAnalyzer #implementation of the VADER model "
   ]
  },
  {
   "cell_type": "markdown",
   "metadata": {},
   "source": [
    "Inputs - files and variables"
   ]
  },
  {
   "cell_type": "code",
   "execution_count": 2,
   "metadata": {},
   "outputs": [],
   "source": [
    "infile = \"2_Output/LessonsLearned_step1.xlsx\" #Excel file produced in step 1 (ie. containing unilingual text columns)\n",
    "outfile = \"2_Output/LessonsLearned_step2.xlsx\" \n",
    "\n",
    "stopwords_en = nltk.corpus.stopwords.words(\"english\") #words that should be removed from the text prior to analysis. \n",
    "\n",
    "lesson_colname = 'Lessons EN' #Column containing the unilingual English lessons learned text  "
   ]
  },
  {
   "cell_type": "code",
   "execution_count": 3,
   "metadata": {},
   "outputs": [],
   "source": [
    "#Functions\n",
    "\n",
    "def sentiment_intensity(row, colname):\n",
    "    sid = SentimentIntensityAnalyzer() #Initiate the sentiment analysis model \n",
    "    scores = sid.polarity_scores(row[colname]) #apply the model to the cell of interest (as determined by the row and colname)\n",
    "    return scores\n"
   ]
  },
  {
   "cell_type": "code",
   "execution_count": 4,
   "metadata": {},
   "outputs": [],
   "source": [
    "#Read the Excel file produced in step 1 into a dataframe \n",
    "df = pd.read_excel(infile)"
   ]
  },
  {
   "cell_type": "code",
   "execution_count": 5,
   "metadata": {},
   "outputs": [
    {
     "name": "stdout",
     "output_type": "stream",
     "text": [
      "                                               scores\n",
      "0   {'neg': 0.0, 'neu': 0.932, 'pos': 0.068, 'comp...\n",
      "1   {'neg': 0.013, 'neu': 0.822, 'pos': 0.164, 'co...\n",
      "2   {'neg': 0.0, 'neu': 0.95, 'pos': 0.05, 'compou...\n",
      "3   {'neg': 0.0, 'neu': 0.86, 'pos': 0.14, 'compou...\n",
      "4   {'neg': 0.0, 'neu': 0.922, 'pos': 0.078, 'comp...\n",
      "5   {'neg': 0.0, 'neu': 0.858, 'pos': 0.142, 'comp...\n",
      "6   {'neg': 0.032, 'neu': 0.698, 'pos': 0.27, 'com...\n",
      "7   {'neg': 0.0, 'neu': 0.82, 'pos': 0.18, 'compou...\n",
      "8   {'neg': 0.0, 'neu': 0.977, 'pos': 0.023, 'comp...\n",
      "9   {'neg': 0.04, 'neu': 0.734, 'pos': 0.226, 'com...\n",
      "10  {'neg': 0.0, 'neu': 1.0, 'pos': 0.0, 'compound...\n",
      "11  {'neg': 0.0, 'neu': 0.875, 'pos': 0.125, 'comp...\n",
      "12  {'neg': 0.0, 'neu': 0.885, 'pos': 0.115, 'comp...\n",
      "13  {'neg': 0.0, 'neu': 0.923, 'pos': 0.077, 'comp...\n",
      "14  {'neg': 0.0, 'neu': 0.914, 'pos': 0.086, 'comp...\n",
      "15  {'neg': 0.0, 'neu': 0.977, 'pos': 0.023, 'comp...\n",
      "16  {'neg': 0.0, 'neu': 0.966, 'pos': 0.034, 'comp...\n",
      "17  {'neg': 0.031, 'neu': 0.758, 'pos': 0.211, 'co...\n",
      "18  {'neg': 0.0, 'neu': 0.815, 'pos': 0.185, 'comp...\n"
     ]
    }
   ],
   "source": [
    "#Apply the sentiment analysis function to the dataframe\r\n",
    "scores = df.apply(lambda row: sentiment_intensity(row,lesson_colname), axis=1)\r\n",
    "#This produces a column with scores (ie. how likely the text is to be negative, positive, or neutral - with 1 indicating absolute certainty. It also includes a compound score where -1 is very negative, 0 is neutral, and +1 is very positive)\r\n",
    "scores_df = scores.to_frame(name ='scores') #easiest way of adding a column name \r\n",
    "print(scores_df)"
   ]
  },
  {
   "cell_type": "code",
   "execution_count": 6,
   "metadata": {},
   "outputs": [
    {
     "name": "stdout",
     "output_type": "stream",
     "text": [
      "      neg    neu    pos  compound\n",
      "0   0.000  0.932  0.068    0.6369\n",
      "1   0.013  0.822  0.164    0.9184\n",
      "2   0.000  0.950  0.050    0.5095\n",
      "3   0.000  0.860  0.140    0.8225\n",
      "4   0.000  0.922  0.078    0.6705\n",
      "5   0.000  0.858  0.142    0.7003\n",
      "6   0.032  0.698  0.270    0.9072\n",
      "7   0.000  0.820  0.180    0.8934\n",
      "8   0.000  0.977  0.023    0.3818\n",
      "9   0.040  0.734  0.226    0.8934\n",
      "10  0.000  1.000  0.000    0.0000\n",
      "11  0.000  0.875  0.125    0.8126\n",
      "12  0.000  0.885  0.115    0.9245\n",
      "13  0.000  0.923  0.077    0.5994\n",
      "14  0.000  0.914  0.086    0.7003\n",
      "15  0.000  0.977  0.023    0.0772\n",
      "16  0.000  0.966  0.034    0.2263\n",
      "17  0.031  0.758  0.211    0.7783\n",
      "18  0.000  0.815  0.185    0.7717\n"
     ]
    }
   ],
   "source": [
    "#Split the scores into their own columns in a new dataframe for ease of analysis\n",
    "scores_df = scores_df['scores'].apply(pd.Series)\n",
    "scores_df = scores_df.reindex()\n",
    "print(scores_df)"
   ]
  },
  {
   "cell_type": "code",
   "execution_count": 7,
   "metadata": {},
   "outputs": [
    {
     "name": "stdout",
     "output_type": "stream",
     "text": [
      "    Unnamed: 0                                     Lesson Learned Language  \\\n",
      "0            0  I am honoured to present the State of the Cana...       en   \n",
      "1            1  Les efforts de soutien à l’innovation et de co...       fr   \n",
      "2            2  There are several differing programs and servi...       en   \n",
      "3            3  Encourager le lancement de nouvelles entrepris...       fr   \n",
      "4            4  Research and development (R&D) expenditures to...       en   \n",
      "5            5  The plan proposes a commitment to fund the ini...       en   \n",
      "6            6  Le Réseau d’innovation spatial canadien (RISC)...       fr   \n",
      "7            7  To better reflect the current best practices a...       en   \n",
      "8            8  Le plan opérationnel décrit les détails sur le...       fr   \n",
      "9            9  Le gouvernement du Canada appuie depuis longte...       fr   \n",
      "10          10  In order to measure the changes taking place i...       en   \n",
      "11          11  Parallèlement aux efforts concertés avec l’OCD...       fr   \n",
      "12          12  Le nombre de travailleurs s’est élevé à 8 200,...       fr   \n",
      "13          13  Il importe de noter que toutes les information...       fr   \n",
      "14          14  Over the past five years, total revenues in Qu...       en   \n",
      "15          15  The following table reports the percentage of ...       en   \n",
      "16          16  En 2013, les universités et les centres de rec...       fr   \n",
      "17          17  La main-d’œuvre du secteur spatial canadien a ...       fr   \n",
      "18          18  Les plus importants marchés d’exportation des ...       fr   \n",
      "\n",
      "                                           Lessons EN  \\\n",
      "0   I am honoured to present the State of the Cana...   \n",
      "1   Efforts to support innovation and collaboratio...   \n",
      "2   There are several differing programs and servi...   \n",
      "3   Encourage the launch of new businesses in the ...   \n",
      "4   Research and development (R&D) expenditures to...   \n",
      "5   The plan proposes a commitment to fund the ini...   \n",
      "6   The Canadian Space Innovation Network (RISC) w...   \n",
      "7   To better reflect the current best practices a...   \n",
      "8   The operational plan describes the details of ...   \n",
      "9   The Government of Canada has a long history of...   \n",
      "10  In order to measure the changes taking place i...   \n",
      "11  In addition to concerted efforts with the OECD...   \n",
      "12  The number of workers rose to 8,200, of which ...   \n",
      "13  It is important to note that all information r...   \n",
      "14  Over the past five years, total revenues in Qu...   \n",
      "15  The following table reports the percentage of ...   \n",
      "16  In 2013, universities and research centers con...   \n",
      "17  The Canadian space sector workforce expanded i...   \n",
      "18  The largest export markets for space-based org...   \n",
      "\n",
      "                                           Lessons FR    neg    neu    pos  \\\n",
      "0   J'ai l'honneur de présenter le rapport sur l'é...  0.000  0.932  0.068   \n",
      "1   Les efforts de soutien à l’innovation et de co...  0.013  0.822  0.164   \n",
      "2   Il existe plusieurs programmes et services dif...  0.000  0.950  0.050   \n",
      "3   Encourager le lancement de nouvelles entrepris...  0.000  0.860  0.140   \n",
      "4   Les dépenses de recherche et développement (R&...  0.000  0.922  0.078   \n",
      "5   Le plan propose un engagement à financer les t...  0.000  0.858  0.142   \n",
      "6   Le Réseau d’innovation spatial canadien (RISC)...  0.032  0.698  0.270   \n",
      "7   Afin de mieux refléter les meilleures pratique...  0.000  0.820  0.180   \n",
      "8   Le plan opérationnel décrit les détails sur le...  0.000  0.977  0.023   \n",
      "9   Le gouvernement du Canada appuie depuis longte...  0.040  0.734  0.226   \n",
      "10  Afin de mesurer les changements qui s'opèrent ...  0.000  1.000  0.000   \n",
      "11  Parallèlement aux efforts concertés avec l’OCD...  0.000  0.875  0.125   \n",
      "12  Le nombre de travailleurs s’est élevé à 8 200,...  0.000  0.885  0.115   \n",
      "13  Il importe de noter que toutes les information...  0.000  0.923  0.077   \n",
      "14  Au cours des cinq dernières années, les revenu...  0.000  0.914  0.086   \n",
      "15  Le tableau suivant présente le pourcentage de ...  0.000  0.977  0.023   \n",
      "16  En 2013, les universités et les centres de rec...  0.000  0.966  0.034   \n",
      "17  La main-d’œuvre du secteur spatial canadien a ...  0.031  0.758  0.211   \n",
      "18  Les plus importants marchés d’exportation des ...  0.000  0.815  0.185   \n",
      "\n",
      "    compound  \n",
      "0     0.6369  \n",
      "1     0.9184  \n",
      "2     0.5095  \n",
      "3     0.8225  \n",
      "4     0.6705  \n",
      "5     0.7003  \n",
      "6     0.9072  \n",
      "7     0.8934  \n",
      "8     0.3818  \n",
      "9     0.8934  \n",
      "10    0.0000  \n",
      "11    0.8126  \n",
      "12    0.9245  \n",
      "13    0.5994  \n",
      "14    0.7003  \n",
      "15    0.0772  \n",
      "16    0.2263  \n",
      "17    0.7783  \n",
      "18    0.7717  \n"
     ]
    }
   ],
   "source": [
    "#Add the scores dataframe to the existing lessons learned dataframe\r\n",
    "df1 = pd.concat([df,scores_df], axis =1)\r\n",
    "print(df1)"
   ]
  },
  {
   "cell_type": "code",
   "execution_count": 8,
   "metadata": {},
   "outputs": [],
   "source": [
    "df1 = df1.rename(columns = {'neg': 'Negative Sentiment','neu':'Neutral Sentiment','pos':'Positive Sentiment','compound':'Compound Sentiment Score'}) #some better column names\n",
    "df1.to_excel(outfile,index=False, encoding=\"utf-8\") #write the results to a new file"
   ]
  }
 ],
 "metadata": {
  "kernelspec": {
   "display_name": "Python 3.8.8 64-bit ('DevSoftware': virtualenv)",
   "name": "python388jvsc74a57bd0a6c131c26f50ba2ded071a0b6b96b2e36e00e7793e3b3ff9f09232dca713c27c"
  },
  "language_info": {
   "codemirror_mode": {
    "name": "ipython",
    "version": 3
   },
   "file_extension": ".py",
   "mimetype": "text/x-python",
   "name": "python",
   "nbconvert_exporter": "python",
   "pygments_lexer": "ipython3",
   "version": "3.8.8"
  }
 },
 "nbformat": 4,
 "nbformat_minor": 5
}